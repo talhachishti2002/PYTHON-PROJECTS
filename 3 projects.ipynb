{
 "cells": [
  {
   "cell_type": "code",
   "execution_count": 1,
   "id": "87e5de2c",
   "metadata": {},
   "outputs": [
    {
     "name": "stdout",
     "output_type": "stream",
     "text": [
      "Hi , I am Talha Chishti\n"
     ]
    }
   ],
   "source": [
    "class Person:\n",
    "    def __init__(self, name):\n",
    "        self.name = name\n",
    "\n",
    "    def talk(self):\n",
    "        print(\"Hi , I am \" + self.name)\n",
    "\n",
    "\n",
    "talha = Person(\"Talha Chishti\")\n",
    "talha.talk()\n"
   ]
  },
  {
   "cell_type": "code",
   "execution_count": 2,
   "id": "b7e4773c",
   "metadata": {},
   "outputs": [
    {
     "name": "stdout",
     "output_type": "stream",
     "text": [
      "Phone : 8\n",
      "! \n"
     ]
    }
   ],
   "source": [
    "x = input(\"Phone : \")\n",
    "digit_mapping = {\n",
    "    \"1\": \"One\",\n",
    "    \"2\": \"Two\",\n",
    "    \"3\": \"Three\",\n",
    "    \"4\": \"Four\"\n",
    "\n",
    "}\n",
    "output = \"\"\n",
    "for ch in x :\n",
    "    output += digit_mapping.get(ch, \"!\") + \" \"\n",
    "print(output)\n"
   ]
  },
  {
   "cell_type": "code",
   "execution_count": 4,
   "id": "b3080b57",
   "metadata": {},
   "outputs": [
    {
     "name": "stdout",
     "output_type": "stream",
     "text": [
      "Please enter your birth_year: 2002\n",
      "You are 20 years old.\n"
     ]
    }
   ],
   "source": [
    "try:\n",
    "    birth_year = int(input(\"Please enter your birth_year: \"))\n",
    "    if birth_year == 0:\n",
    "        print(\"birth_year cannot be zero\")\n",
    "    else:\n",
    "        age = 2022 - birth_year\n",
    "        print(\"You are {} years old.\".format(age))\n",
    "\n",
    "except ValueError:\n",
    "    print(\"Invalid Value\")\n"
   ]
  }
 ],
 "metadata": {
  "kernelspec": {
   "display_name": "Python 3 (ipykernel)",
   "language": "python",
   "name": "python3"
  },
  "language_info": {
   "codemirror_mode": {
    "name": "ipython",
    "version": 3
   },
   "file_extension": ".py",
   "mimetype": "text/x-python",
   "name": "python",
   "nbconvert_exporter": "python",
   "pygments_lexer": "ipython3",
   "version": "3.9.12"
  }
 },
 "nbformat": 4,
 "nbformat_minor": 5
}
